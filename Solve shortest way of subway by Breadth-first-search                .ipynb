{
  "nbformat": 4,
  "nbformat_minor": 0,
  "metadata": {
    "colab": {
      "name": "(FINAL) H.W 6. 지하철 최단경로 찾기(BFS).ipynb.ipynb",
      "version": "0.3.2",
      "provenance": [],
      "collapsed_sections": []
    },
    "kernelspec": {
      "name": "python3",
      "display_name": "Python 3"
    }
  },
  "cells": [
    {
      "metadata": {
        "id": "-2BMjadCmkBD",
        "colab_type": "code",
        "colab": {
          "base_uri": "https://localhost:8080/",
          "height": 72
        },
        "outputId": "81464773-d888-421d-f4b1-16ce2308109c"
      },
      "cell_type": "code",
      "source": [
        "from google.colab import drive\n",
        "drive.mount('/gdrive')\n",
        "\n",
        "import pandas as pd\n",
        "data =pd.read_csv('/gdrive/My Drive/subway.csv', header = -1)\n",
        "\n",
        "################################################################################\n",
        "\n",
        "g = {}\n",
        "\n",
        "for i in range(data.shape[0]):\n",
        "  g[data.iat[i,0]] = []\n",
        "  g[data.iat[i,0]].append(data.iat[i,1])\n",
        "  g[data.iat[i,0]].append(data.iat[i,2])\n",
        "\n",
        "################################################################################\n",
        "\n",
        "def subway(graph, start, end):\n",
        " \n",
        "  visit = []\n",
        "  visit.append(start)\n",
        "  \n",
        "  curStation = start\n",
        "  \n",
        "  time = 0\n",
        "  \n",
        "  while True:\n",
        "    nextStation = g[curStation][0]\n",
        "    \n",
        "    time += g[curStation][1]\n",
        "    curStation = nextStation  \n",
        "    \n",
        "    visit.append(nextStation)\n",
        "    \n",
        "    if nextStation == end:\n",
        "      return visit, time\n",
        "      break\n",
        "\n",
        "################################################################################\n",
        "      \n",
        "subway(g,'서울역(4)', '삼각지(4)')"
      ],
      "execution_count": 3,
      "outputs": [
        {
          "output_type": "stream",
          "text": [
            "Drive already mounted at /gdrive; to attempt to forcibly remount, call drive.mount(\"/gdrive\", force_remount=True).\n"
          ],
          "name": "stdout"
        },
        {
          "output_type": "execute_result",
          "data": {
            "text/plain": [
              "(['서울역(4)', '숙대입구(4)', '삼각지(4)'], 4)"
            ]
          },
          "metadata": {
            "tags": []
          },
          "execution_count": 3
        }
      ]
    },
    {
      "metadata": {
        "id": "GMumGxgsmvhC",
        "colab_type": "code",
        "colab": {}
      },
      "cell_type": "code",
      "source": [
        ""
      ],
      "execution_count": 0,
      "outputs": []
    }
  ]
}